{
 "cells": [
  {
   "attachments": {},
   "cell_type": "markdown",
   "metadata": {},
   "source": [
    "# Brandon Mack"
   ]
  },
  {
   "attachments": {},
   "cell_type": "markdown",
   "metadata": {},
   "source": [
    "## Research question/interests\n",
    "\n",
    "Do players who have a higher headshot percentage tend to get more kills and have a higher rank? Does the number of headshots a player accumulates correlate directly to their rank and the amount of wins they achieve.\n",
    "\n",
    "\n",
    "I will collect this data based directly off of the headshot percentage per player per rank, this will allow me to see a direct comparison between the high level players and low level players. I will also be comparing each individual players body shot to head shot ratio to mathematically determine if headshots lead to a higher skill level."
   ]
  }
 ],
 "metadata": {
  "language_info": {
   "name": "plaintext"
  },
  "orig_nbformat": 4
 },
 "nbformat": 4,
 "nbformat_minor": 2
}
