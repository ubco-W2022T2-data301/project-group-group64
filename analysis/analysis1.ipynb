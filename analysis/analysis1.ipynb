{
 "cells": [
  {
   "cell_type": "markdown",
   "metadata": {},
   "source": [
    "# Karam Hejazin"
   ]
  },
  {
   "cell_type": "markdown",
   "metadata": {},
   "source": [
    "## Research question/interests\n",
    "\n",
    "Briefly describe your research question or interests here.\n",
    "\n",
    "Are players who have more aces or round clutches more likely to have a higher rank in Valorant? \n",
    "Does the number of flawless rounds a player has in an act correlate with their rank/winrate in Valorant?\n",
    "\n",
    "\n",
    "\n",
    "I will be collecting the data based on rank example, immortal/radiant, as well as win rate to find out how many statistics affect each individual game, and in the grand scheme things"
   ]
  }
 ],
 "metadata": {
  "language_info": {
   "name": "plaintext"
  },
  "orig_nbformat": 4
 },
 "nbformat": 4,
 "nbformat_minor": 2
}
