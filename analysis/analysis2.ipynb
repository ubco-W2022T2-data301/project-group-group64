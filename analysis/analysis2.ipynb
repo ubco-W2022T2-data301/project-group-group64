{
 "cells": [
  {
   "cell_type": "markdown",
   "metadata": {
    "tags": []
   },
   "source": [
    "# Tyler Cummings"
   ]
  },
  {
   "cell_type": "markdown",
   "metadata": {},
   "source": [
    "## Research question/interests\n",
    "\n",
    "Do players from different regions use different characters compared to other regions, or do all regions use the same characters? I will also be comparing the regions and character usage with rank and character usage to see if the rank of each player has an impact on the character they use. An additional column I might need would be win-rates to find if the character they use has an impact on their win percentage. The reason why I am interested in this is because I want to find out if different regions have different strategies when it comes to the characters they play."
   ]
  }
 ],
 "metadata": {
  "kernelspec": {
   "display_name": "Python 3 (ipykernel)",
   "language": "python",
   "name": "python3"
  },
  "language_info": {
   "codemirror_mode": {
    "name": "ipython",
    "version": 3
   },
   "file_extension": ".py",
   "mimetype": "text/x-python",
   "name": "python",
   "nbconvert_exporter": "python",
   "pygments_lexer": "ipython3",
   "version": "3.11.1"
  }
 },
 "nbformat": 4,
 "nbformat_minor": 4
}
