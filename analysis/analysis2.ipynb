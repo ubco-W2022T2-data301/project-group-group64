{
 "cells": [
  {
   "cell_type": "markdown",
   "metadata": {
    "tags": []
   },
   "source": [
    "# Tyler Cummings"
   ]
  },
  {
   "cell_type": "markdown",
   "metadata": {},
   "source": [
    "## Research question/interests\n",
    "\n",
    "**Do players from different regions use different characters compared to other regions, or do all regions use the same characters?** I will also be comparing the regions and character usage with rank and character usage to see if the rank of each player has an impact on the character they use. An additional column I might need would be win-rates to find if the character they use has an impact on their win percentage. The reason why I am interested in this is because I want to find out if different regions have different strategies when it comes to the characters they play."
   ]
  },
  {
   "cell_type": "code",
   "execution_count": 1,
   "metadata": {},
   "outputs": [
    {
     "name": "stdout",
     "output_type": "stream",
     "text": [
      "      region            name     tag      rating  damage_round headshots  \\\n",
      "0        NaN        ShimmyXD    #NA1     Radiant         135.8       992   \n",
      "1        NaN       XSET Cryo  #cells     Radiant         170.3       879   \n",
      "2        NaN   PuRelittleone  #yoruW     Radiant         147.5       720   \n",
      "3        NaN            Boba   #0068     Radiant         178.2       856   \n",
      "4        NaN     i love mina  #kelly     Radiant         149.8       534   \n",
      "...      ...             ...     ...         ...           ...       ...   \n",
      "85673    LAT        Kazutora  #img0d     Radiant         138.2       342   \n",
      "85674    LAT  el lobo marino  #uthur     Radiant         182.9       650   \n",
      "85675    LAT          p9pzet   #666x     Radiant         158.8       613   \n",
      "85676    LAT  EZ4TGD EnSBuwu  #kmeve  Immortal 3         155.9       132   \n",
      "85677    LAT            Neon    #SSJ     Radiant         164.4     1,127   \n",
      "\n",
      "       headshot_percent  aces  clutches  flawless  ... gun2_name gun2_head  \\\n",
      "0                  24.9     0       140        80  ...   Phantom        33   \n",
      "1                  28.3     2       122        94  ...  Operator         8   \n",
      "2                  24.0     3       117        59  ...   Phantom        36   \n",
      "3                  37.3     3        83        49  ...   Sheriff        48   \n",
      "4                  24.4     2        71        38  ...   Spectre        21   \n",
      "...                 ...   ...       ...       ...  ...       ...       ...   \n",
      "85673              21.4     0        58        54  ...    Vandal        28   \n",
      "85674              30.1     4        77        42  ...    Vandal        40   \n",
      "85675              30.2     0        70        54  ...   Phantom        40   \n",
      "85676              22.2     0        23        18  ...   Phantom        39   \n",
      "85677              20.7     3       136        82  ...  Operator         9   \n",
      "\n",
      "      gun2_body gun2_legs  gun2_kills  gun3_name  gun3_head  gun3_body  \\\n",
      "0            62         5         220    Classic         36         60   \n",
      "1            91         0         226    Phantom         32         63   \n",
      "2            61         3         231   Operator          8         91   \n",
      "3            51         1          48    Phantom         44         56   \n",
      "4            71         8          65   Operator          8         92   \n",
      "...         ...       ...         ...        ...        ...        ...   \n",
      "85673        69         2         175    Classic         39         59   \n",
      "85674        57         3         212    Spectre         33         63   \n",
      "85675        56         4         159   Operator         10         89   \n",
      "85676        57         3          37    Spectre         27         69   \n",
      "85677        88         2         132    Spectre         27         70   \n",
      "\n",
      "       gun3_legs  gun3_kills  \n",
      "0              3         147  \n",
      "1              5         137  \n",
      "2              1         102  \n",
      "3              0          36  \n",
      "4              0          64  \n",
      "...          ...         ...  \n",
      "85673          2          71  \n",
      "85674          5         139  \n",
      "85675          1          87  \n",
      "85676          4          17  \n",
      "85677          2         108  \n",
      "\n",
      "[85678 rows x 38 columns]\n"
     ]
    }
   ],
   "source": [
    "import pandas as pd\n",
    "\n",
    "df = pd.read_csv('../data/raw/val_stats.csv', low_memory = False)\n",
    "\n",
    "print(df)"
   ]
  },
  {
   "cell_type": "code",
   "execution_count": null,
   "metadata": {},
   "outputs": [],
   "source": []
  }
 ],
 "metadata": {
  "kernelspec": {
   "display_name": "Python 3 (ipykernel)",
   "language": "python",
   "name": "python3"
  },
  "language_info": {
   "codemirror_mode": {
    "name": "ipython",
    "version": 3
   },
   "file_extension": ".py",
   "mimetype": "text/x-python",
   "name": "python",
   "nbconvert_exporter": "python",
   "pygments_lexer": "ipython3",
   "version": "3.11.1"
  }
 },
 "nbformat": 4,
 "nbformat_minor": 4
}
